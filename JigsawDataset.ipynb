{
 "cells": [
  {
   "cell_type": "code",
   "execution_count": 1,
   "metadata": {},
   "outputs": [],
   "source": [
    "import torch\n",
    "import torchvision\n",
    "from torchvision.datasets import MNIST\n",
    "\n",
    "import numpy as np\n",
    "import matplotlib.pyplot as plt\n",
    "import pandas as pd\n",
    "\n",
    "from random import sample, random\n",
    "import itertools\n",
    "\n",
    "from sklearn.model_selection import train_test_split\n",
    "\n",
    "import os"
   ]
  },
  {
   "cell_type": "code",
   "execution_count": 2,
   "metadata": {},
   "outputs": [],
   "source": [
    "train_set = pd.read_csv(\"/Users/lfeng/Projects/11-785-Project/dataset/MNIST_CSV/mnist_train.csv\")\n",
    "test_images = pd.read_csv(\"/Users/lfeng/Projects/11-785-Project/dataset/MNIST_CSV/mnist_test.csv\")"
   ]
  },
  {
   "cell_type": "code",
   "execution_count": 3,
   "metadata": {},
   "outputs": [],
   "source": [
    "train_images, val_images, train_labels, val_labels = train_test_split(train_set.iloc[:, 1:], \n",
    "                                                                     train_set.iloc[:, 0], \n",
    "                                                                     test_size=0.3)\n",
    "\n",
    "train_images.reset_index(drop=True, inplace=True)\n",
    "val_images.reset_index(drop=True, inplace=True)\n",
    "train_labels.reset_index(drop=True, inplace=True)\n",
    "val_labels.reset_index(drop=True, inplace=True)"
   ]
  },
  {
   "cell_type": "code",
   "execution_count": 14,
   "metadata": {},
   "outputs": [],
   "source": [
    "train_data = train_images.to_numpy()\n",
    "train_labels = train_labels.to_numpy()\n",
    "\n",
    "val_data = val_images.to_numpy()\n",
    "val_labels = val_labels.to_numpy()"
   ]
  },
  {
   "cell_type": "code",
   "execution_count": null,
   "metadata": {},
   "outputs": [],
   "source": [
    "fig, ax = plt.subplots(nrows=3, ncols=3, figsize=(8,8))\n",
    "fig.subplots_adjust(hspace=.3)\n",
    "for i in range(3):\n",
    "    for j in range(3):\n",
    "        ax[i][j].axis('off')\n",
    "        ax[i][j].imshow(train_images.iloc[[i+(j*5)], :].to_numpy().astype(np.uint8).reshape(28, 28), cmap='gray')\n",
    "        ax[i][j].set_title(train_labels[i+(j*5)])"
   ]
  },
  {
   "cell_type": "code",
   "execution_count": null,
   "metadata": {},
   "outputs": [],
   "source": [
    "fig, ax = plt.subplots(nrows=4, ncols=4, figsize=(8,8))\n",
    "fig.subplots_adjust(hspace=.3)\n",
    "\n",
    "for i in range(4):\n",
    "    for j in range(4):\n",
    "        ax[i][j].axis('off')\n",
    "        ax[i][j].imshow(tiles[i * 4 + j], cmap='gray')"
   ]
  },
  {
   "cell_type": "code",
   "execution_count": 18,
   "metadata": {},
   "outputs": [],
   "source": [
    "class JigsawDataset(torch.utils.data.Dataset):\n",
    "    def __init__(self, images, labels, permutations=10, img_transformer=None):\n",
    "        self.images = images\n",
    "        self.labels = labels\n",
    "        self.permutations = permutations\n",
    "\n",
    "        self.N = len(self.images)\n",
    "        self.grid_size = 4\n",
    "\n",
    "    def __retrieve_permutations(self):\n",
    "        nums = range(self.grid_size * self.grid_size)\n",
    "\n",
    "        permutations = []\n",
    "        for i in range(self.permutations):\n",
    "            permutations.append(np.random.permutation(nums))\n",
    "\n",
    "        return permutations       \n",
    "\n",
    "    def __get_image(self, index):\n",
    "        return self.images[index]\n",
    "\n",
    "    def __get_tiles(self, index):\n",
    "        img = self.__get_image(index).reshape(28, 28)\n",
    "        tiles = np.zeros((16, 7, 7))\n",
    "\n",
    "        for i in range(4):\n",
    "            for j in range(4):\n",
    "                tiles[i * 4 + j] = img[i*7:i*7+7, j*7:j*7+7]\n",
    "\n",
    "        return tiles\n",
    "    \n",
    "    def make_grid(x):\n",
    "        return torchvision.utils.make_grid(x, self.grid_size, padding=0)\n",
    "        \n",
    "    def __getitem__(self, index):\n",
    "        n_grids = self.grid_size ** 2\n",
    "        tiles = self.__get_tiles(index)\n",
    "\n",
    "        order = self.__retrieve_permutations()\n",
    "        \n",
    "        data = [tiles[order[t]] for t in range(n_grids)]\n",
    "            \n",
    "        item = torch.stack(data, 0)\n",
    "        return make_grid(item), int(order), int(self.labels[index])\n",
    "\n",
    "    def __len__(self):\n",
    "        return self.N"
   ]
  },
  {
   "cell_type": "code",
   "execution_count": 19,
   "metadata": {},
   "outputs": [],
   "source": [
    "train_loader = torch.utils.data.DataLoader(\n",
    "        dataset     = train_data,\n",
    "        num_workers = 2,\n",
    "        batch_size  = 64,\n",
    "        pin_memory  = True,\n",
    "        shuffle     = True,\n",
    ")\n"
   ]
  },
  {
   "cell_type": "code",
   "execution_count": null,
   "metadata": {},
   "outputs": [],
   "source": [
    "train_loader = torch.utils.data.DataLoader(\n",
    "        dataset     = train_data,\n",
    "        num_workers = 2,\n",
    "        batch_size  = config['batch_size'],\n",
    "        pin_memory  = True,\n",
    "        shuffle     = True,\n",
    ")\n",
    "\n",
    "val_loader = torch.utils.data.DataLoader(\n",
    "        dataset     = val_data,\n",
    "        num_workers = 1,\n",
    "        batch_size  = config['batch_size'],\n",
    "        pin_memory  = True,\n",
    "        shuffle     = False,\n",
    "    )\n",
    "\n",
    "test_loader = torch.utils.data.DataLoader(\n",
    "        dataset     = test_data,\n",
    "        num_workers = 1,\n",
    "        batch_size  = config['batch_size'],\n",
    "        pin_memory  = True,\n",
    "        shuffle     = False,\n",
    "    )\n",
    "\n",
    "print(\"Batch size: \", config['batch_size'])\n",
    "print(\"Train dataset samples = {}, batches = {}\".format(train_data.__len__(), len(train_loader)))\n",
    "print(\"Val dataset samples = {}, batches = {}\".format(val_data.__len__(), len(val_loader)))\n",
    "print(\"Test dataset samples = {}, batches = {}\".format(test_data.__len__(), len(test_loader)))"
   ]
  }
 ],
 "metadata": {
  "kernelspec": {
   "display_name": "base",
   "language": "python",
   "name": "python3"
  },
  "language_info": {
   "codemirror_mode": {
    "name": "ipython",
    "version": 3
   },
   "file_extension": ".py",
   "mimetype": "text/x-python",
   "name": "python",
   "nbconvert_exporter": "python",
   "pygments_lexer": "ipython3",
   "version": "3.9.12"
  }
 },
 "nbformat": 4,
 "nbformat_minor": 2
}
