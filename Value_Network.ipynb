{
  "cells": [
    {
      "cell_type": "code",
      "execution_count": null,
      "metadata": {
        "colab": {
          "base_uri": "https://localhost:8080/"
        },
        "id": "zOahaUUH2_r1",
        "outputId": "9345a9a4-50c7-4b63-93da-066ae9a1b775"
      },
      "outputs": [
        {
          "output_type": "stream",
          "name": "stdout",
          "text": [
            "Device:  cuda\n"
          ]
        }
      ],
      "source": [
        "import torchvision\n",
        "import torch\n",
        "import numpy as np\n",
        "from collections import defaultdict\n",
        "import torch.nn as nn\n",
        "from ast import Continue\n",
        "\n",
        "import pandas as pd\n",
        "from sklearn.model_selection import train_test_split\n",
        "from torchsummary import summary\n",
        "from tqdm import tqdm\n",
        "\n",
        "DEVICE = 'cuda' if torch.cuda.is_available() else 'cpu'\n",
        "print(\"Device: \", DEVICE)"
      ]
    },
    {
      "cell_type": "code",
      "execution_count": null,
      "metadata": {
        "id": "IxkFAuKC3ggP"
      },
      "outputs": [],
      "source": [
        "#mnist = torchvision.datasets.MNIST(root = './data/',download=True)"
      ]
    },
    {
      "cell_type": "code",
      "execution_count": null,
      "metadata": {
        "colab": {
          "base_uri": "https://localhost:8080/"
        },
        "id": "qOOVIpUlm8Oj",
        "outputId": "687ea4f1-58b8-401f-cb1e-8db8d4af1277"
      },
      "outputs": [
        {
          "output_type": "stream",
          "name": "stdout",
          "text": [
            "Drive already mounted at /content/drive; to attempt to forcibly remount, call drive.mount(\"/content/drive\", force_remount=True).\n"
          ]
        }
      ],
      "source": [
        "from google.colab import drive\n",
        "drive.mount('/content/drive')\n",
        "!cp '/content/drive/MyDrive/11-785 Project/MNIST_CSV.zip' MNIST_CSV.zip"
      ]
    },
    {
      "cell_type": "code",
      "execution_count": null,
      "metadata": {
        "id": "YDSWbKbx7QMi"
      },
      "outputs": [],
      "source": [
        "# !unzip MNIST_CSV.zip"
      ]
    },
    {
      "cell_type": "code",
      "execution_count": null,
      "metadata": {
        "id": "POb7_hvA4hFx"
      },
      "outputs": [],
      "source": [
        "n_epochs = 3\n",
        "batch_size_train = 32\n",
        "batch_size_test = 1000\n",
        "learning_rate = 0.01\n",
        "momentum = 0.5\n",
        "log_interval = 10\n",
        "random_seed = 1\n",
        "torch.backends.cudnn.enabled = False\n",
        "torch.manual_seed(random_seed)\n",
        "HYPER_GRAYSCALE = True"
      ]
    },
    {
      "cell_type": "code",
      "execution_count": null,
      "metadata": {
        "id": "be_xMhZO5tfl"
      },
      "outputs": [],
      "source": [
        "train_set = pd.read_csv(\"mnist_train.csv\")\n",
        "test_images = pd.read_csv(\"mnist_test.csv\")\n",
        "\n",
        "train_images, val_images, train_labels, val_labels = train_test_split(train_set.iloc[:, 1:],\n",
        "                                                                     train_set.iloc[:, 0],\n",
        "                                                                     test_size=0.3)\n",
        "\n",
        "train_images.reset_index(drop=True, inplace=True)\n",
        "val_images.reset_index(drop=True, inplace=True)\n",
        "train_labels.reset_index(drop=True, inplace=True)\n",
        "val_labels.reset_index(drop=True, inplace=True)\n",
        "\n",
        "train_images = train_images.to_numpy(dtype='float32')\n",
        "train_labels = train_labels.to_numpy(dtype='float32')\n",
        "\n",
        "val_images = val_images.to_numpy(dtype='float32')\n",
        "val_labels = val_labels.to_numpy(dtype='float32')\n",
        "\n",
        "test_images = test_images.to_numpy(dtype='float32')"
      ]
    },
    {
      "cell_type": "markdown",
      "metadata": {
        "id": "aoi__a7H96Pm"
      },
      "source": [
        "## Jigsaw Datasets"
      ]
    },
    {
      "cell_type": "code",
      "execution_count": null,
      "metadata": {
        "id": "gC4n7TMa7Yof"
      },
      "outputs": [],
      "source": [
        "class JigsawDataset(torch.utils.data.Dataset):\n",
        "    def __init__(self, images, labels, permutations=10, img_transformer=None):\n",
        "        self.images = images\n",
        "        self.labels = labels\n",
        "        self.permutations = permutations\n",
        "\n",
        "        self.N = len(self.images)\n",
        "        self.grid_size = 3\n",
        "\n",
        "    def __retrieve_permutations(self):\n",
        "        nums = range(self.grid_size * self.grid_size)\n",
        "\n",
        "        \"\"\"\n",
        "        permutations = []\n",
        "        for i in range(self.permutations):\n",
        "            permutations.append(np.random.permutation(nums))\n",
        "        \"\"\"\n",
        "\n",
        "        return np.random.permutation(nums)\n",
        "\n",
        "    def __get_image(self, index):\n",
        "        return self.images[index]\n",
        "\n",
        "    def __get_tiles(self, index):\n",
        "        img = self.__get_image(index).reshape(28, 28)\n",
        "        tiles = np.zeros((9, 9, 9), dtype='float32')\n",
        "\n",
        "        for i in range(3):\n",
        "            for j in range(3):\n",
        "                tiles[i * 3 + j] = img[i*9:i*9+9, j*9:j*9+9]\n",
        "\n",
        "        return tiles\n",
        "\n",
        "    def __getitem__(self, index):\n",
        "        n_grids = self.grid_size ** 2\n",
        "        tiles = self.__get_tiles(index)\n",
        "\n",
        "        order = self.__retrieve_permutations()\n",
        "\n",
        "        data_index = torch.from_numpy(np.array(order))\n",
        "\n",
        "        data = [torch.from_numpy(tiles[order[t]]) for t in range(n_grids)]\n",
        "\n",
        "        item = torch.stack(data, 0)\n",
        "        return item, order, int(self.labels[index])\n",
        "\n",
        "    def __len__(self):\n",
        "        return self.N"
      ]
    },
    {
      "cell_type": "code",
      "execution_count": null,
      "metadata": {
        "id": "nscImNp2utw9"
      },
      "outputs": [],
      "source": [
        "class JigsawDataset_State(torch.utils.data.Dataset):\n",
        "    def __init__(self, images, labels, permutations=10, img_transformer=None, img_grayscale = HYPER_GRAYSCALE):\n",
        "        self.images = images\n",
        "        self.labels = labels\n",
        "        self.permutations = permutations\n",
        "\n",
        "        self.N = len(self.images)\n",
        "        self.grid_size = 3\n",
        "        self.GRAYSCALE = HYPER_GRAYSCALE\n",
        "\n",
        "    def __retrieve_permutations(self):\n",
        "        nums = range(self.grid_size * self.grid_size)\n",
        "\n",
        "        \"\"\"\n",
        "        permutations = []\n",
        "        for i in range(self.permutations):\n",
        "            permutations.append(np.random.permutation(nums))\n",
        "        \"\"\"\n",
        "\n",
        "        return np.random.permutation(nums)\n",
        "\n",
        "    def __get_image(self, index):\n",
        "        img = self.images[index].reshape(28, 28)\n",
        "        if self.GRAYSCALE:\n",
        "          img = np.repeat(img[ np.newaxis, :, :], 3, axis=0)\n",
        "        return img\n",
        "\n",
        "    def __get_state(self, index, current_pieces, piece_list, order, tile_list):\n",
        "        img = self.__get_image(index)\n",
        "        tiles = np.zeros((9, 3, 9, 9), dtype='float32')\n",
        "\n",
        "        for i in range(3):\n",
        "          for j in range(3):\n",
        "\n",
        "            a = i * 3 + j\n",
        "            tiles[a] = img[:,i*9:i*9+9, j*9:j*9+9]\n",
        "            if a not in piece_list:\n",
        "              img[:,i*9:i*9+9, j*9:j*9+9] = 0\n",
        "\n",
        "        return img, tiles\n",
        "\n",
        "    def __getitem__(self, index):\n",
        "        n_grids = self.grid_size ** 2\n",
        "\n",
        "        current_pieces = np.random.randint(0,9)\n",
        "        current_pieces = 8\n",
        "        order = self.__retrieve_permutations()\n",
        "\n",
        "        piece_list = np.random.choice(9, current_pieces, replace=False)\n",
        "        # piece_list = [piece_list_unshuffled[x] for x in order]\n",
        "        tile_list = [i for i in order if i not in piece_list]\n",
        "\n",
        "\n",
        "        img, tiles = self.__get_state(index, current_pieces, piece_list, order, tile_list)\n",
        "\n",
        "        data_index = torch.from_numpy(np.array(order))\n",
        "\n",
        "        tiles_shuffl = [torch.from_numpy(tiles[x]) for x in tile_list]\n",
        "\n",
        "\n",
        "        return img, current_pieces, tiles, tiles_shuffl[0], tile_list[0], order, int(self.labels[index])\n",
        "\n",
        "    def __len__(self):\n",
        "        return self.N"
      ]
    },
    {
      "cell_type": "markdown",
      "metadata": {
        "id": "zEuQwsYrg8du"
      },
      "source": [
        "### Value Network Datasets"
      ]
    },
    {
      "cell_type": "code",
      "execution_count": null,
      "metadata": {
        "id": "JhZ8YdkweDzO"
      },
      "outputs": [],
      "source": [
        "class ValueDataset_random_shuffle(torch.utils.data.Dataset):\n",
        "    def __init__(self, images, labels, permutations=10, img_transformer=None):\n",
        "        self.images = images\n",
        "        self.labels = labels\n",
        "        self.permutations = permutations\n",
        "\n",
        "        self.N = len(self.images)\n",
        "        self.grid_size = 3\n",
        "\n",
        "    def __retrieve_permutations(self):\n",
        "        nums = range(self.grid_size * self.grid_size)\n",
        "\n",
        "        \"\"\"\n",
        "        permutations = []\n",
        "        for i in range(self.permutations):\n",
        "            permutations.append(np.random.permutation(nums))\n",
        "        \"\"\"\n",
        "\n",
        "        return np.random.permutation(nums)\n",
        "\n",
        "    def __get_image(self, index):\n",
        "        return self.images[index]\n",
        "\n",
        "    def __get_shuffled_image(self, index, order):\n",
        "        img = self.__get_image(index).reshape(28, 28)\n",
        "        shuffle_image = np.zeros((27, 27), dtype='float32')\n",
        "\n",
        "        for i in range(3):\n",
        "            for j in range(3):\n",
        "              perm = order[i*3+j]\n",
        "              a, b = perm//3, perm % 3\n",
        "              shuffle_image[a*9:a*9+9, b*9:b*9+9] = img[i*9:i*9+9, j*9:j*9+9]\n",
        "\n",
        "        return shuffle_image\n",
        "\n",
        "    def __getitem__(self, index):\n",
        "        n_grids = self.grid_size ** 2\n",
        "\n",
        "        order = self.__retrieve_permutations()\n",
        "        item = self.__get_shuffled_image(index, order)\n",
        "\n",
        "        data_index = torch.from_numpy(np.array(order))\n",
        "        # data = [torch.from_numpy(tiles[order[t]]) for t in range(n_grids)]\n",
        "        # item = torch.stack(data, 0)\n",
        "        return item, order, int(self.labels[index])\n",
        "\n",
        "    def __len__(self):\n",
        "        return self.N"
      ]
    },
    {
      "cell_type": "code",
      "execution_count": null,
      "metadata": {
        "id": "iXZ6ORaMeBgf"
      },
      "outputs": [],
      "source": [
        "class ValueDataset(torch.utils.data.Dataset):\n",
        "    def __init__(self, images, labels, permutations=10, img_transformer=None):\n",
        "        self.images = images\n",
        "        self.labels = labels\n",
        "        self.permutations = permutations\n",
        "\n",
        "        self.N = len(self.images)\n",
        "        self.grid_size = 3\n",
        "        self.GRAYSCALE = True\n",
        "\n",
        "    def __retrieve_permutations(self):\n",
        "        nums = range(self.grid_size * self.grid_size)\n",
        "\n",
        "        return np.random.permutation(nums)\n",
        "\n",
        "    def __get_image(self, index):\n",
        "        return self.images[index]\n",
        "\n",
        "    def __get_shuffled_image(self, index,  shuffles):\n",
        "        img = self.__get_image(index).reshape(28, 28)[:27,:27]\n",
        "        shuffle_image = np.zeros((27, 27), dtype='float32')\n",
        "\n",
        "        shuff_list = np.random.choice(9, 2*shuffles, replace=False)\n",
        "        for i in range(shuffles):\n",
        "          q, w = shuff_list[i*2], shuff_list[i*2+1]\n",
        "          a, b = q//3, q % 3\n",
        "          i, j = w//3, w % 3\n",
        "          k, l = np.copy(img[a*9:a*9+9, b*9:b*9+9]) , np.copy(img[i*9:i*9+9, j*9:j*9+9])\n",
        "          img[i*9:i*9+9, j*9:j*9+9], img[a*9:a*9+9, b*9:b*9+9] =  k, l\n",
        "\n",
        "        return img\n",
        "\n",
        "    def __getitem__(self, index):\n",
        "        n_grids = self.grid_size ** 2\n",
        "        shuffles = np.random.randint(0,5)\n",
        "\n",
        "        # order = self.__retrieve_permutations()\n",
        "        item = self.__get_shuffled_image(index, shuffles)\n",
        "\n",
        "        # data_index = torch.from_numpy(np.array(order))\n",
        "        # data = [torch.from_numpy(tiles[order[t]]) for t in range(n_grids)]\n",
        "        # item = torch.stack(data, 0)\n",
        "        if self.GRAYSCALE:\n",
        "          item = np.repeat(item[ np.newaxis, :, :], 3, axis=0)\n",
        "\n",
        "        return item, torch.tensor(1 - 0.25*shuffles, dtype = torch.float32), int(self.labels[index])\n",
        "\n",
        "    def __len__(self):\n",
        "        return self.N"
      ]
    },
    {
      "cell_type": "markdown",
      "metadata": {
        "id": "aIR4ZOdCgWZa"
      },
      "source": [
        "### Test Datasets"
      ]
    },
    {
      "cell_type": "code",
      "execution_count": null,
      "metadata": {
        "id": "AZGnjAUKv-f7"
      },
      "outputs": [],
      "source": [
        "class ValueDatasetTest(torch.utils.data.Dataset):\n",
        "    def __init__(self, images, permutations=10, img_transformer=None):\n",
        "        self.images = images\n",
        "        self.permutations = permutations\n",
        "\n",
        "        self.N = len(self.images)\n",
        "        self.grid_size = 3\n",
        "        self.GRAYSCALE = True\n",
        "\n",
        "    def __retrieve_permutations(self):\n",
        "        nums = range(self.grid_size * self.grid_size)\n",
        "\n",
        "        return np.random.permutation(nums)\n",
        "\n",
        "    def __get_image(self, index):\n",
        "        return self.images[index]\n",
        "\n",
        "    def __get_shuffled_image(self, index,  shuffles):\n",
        "        img = self.__get_image(index).reshape(28, 28)[:27,:27]\n",
        "        shuffle_image = np.zeros((27, 27), dtype='float32')\n",
        "\n",
        "        shuff_list = np.random.choice(9, 2*shuffles, replace=False)\n",
        "        for i in range(shuffles):\n",
        "          q, w = shuff_list[i*2], shuff_list[i*2+1]\n",
        "          a, b = q//3, q % 3\n",
        "          i, j = w//3, w % 3\n",
        "          k, l = np.copy(img[a*9:a*9+9, b*9:b*9+9]) , np.copy(img[i*9:i*9+9, j*9:j*9+9])\n",
        "          img[i*9:i*9+9, j*9:j*9+9], img[a*9:a*9+9, b*9:b*9+9] = k, l\n",
        "\n",
        "        return img\n",
        "\n",
        "    def __getitem__(self, index):\n",
        "        n_grids = self.grid_size ** 2\n",
        "        shuffles = np.random.randint(0,5)\n",
        "\n",
        "        item = self.__get_shuffled_image(index, shuffles)\n",
        "\n",
        "\n",
        "        if self.GRAYSCALE:\n",
        "          item = np.repeat(item[ np.newaxis, :, :], 3, axis=0)\n",
        "\n",
        "        return item, torch.tensor(1 - 0.25*shuffles, dtype = torch.float32)\n",
        "\n",
        "    def __len__(self):\n",
        "        return self.N"
      ]
    },
    {
      "cell_type": "code",
      "execution_count": null,
      "metadata": {
        "id": "FlSRW7vV_On7"
      },
      "outputs": [],
      "source": [
        "class JigsawDatasetTest(torch.utils.data.Dataset):\n",
        "    def __init__(self, images, permutations=10, img_transformer=None):\n",
        "        self.images = images\n",
        "        self.permutations = permutations\n",
        "\n",
        "        self.N = len(self.images)\n",
        "        self.grid_size = 3\n",
        "\n",
        "    def __retrieve_permutations(self):\n",
        "        nums = range(self.grid_size * self.grid_size)\n",
        "\n",
        "        \"\"\"\n",
        "        permutations = []\n",
        "        for i in range(self.permutations):\n",
        "            permutations.append(np.random.permutation(nums))\n",
        "        \"\"\"\n",
        "\n",
        "        return np.random.permutation(nums)\n",
        "\n",
        "    def __get_image(self, index):\n",
        "        return self.images[index]\n",
        "\n",
        "    def __get_tiles(self, index):\n",
        "        img = self.__get_image(index).reshape(28, 28)\n",
        "        tiles = np.zeros((9, 9, 9), dtype='float32')\n",
        "\n",
        "        for i in range(3):\n",
        "            for j in range(3):\n",
        "                tiles[i * 3 + j] = img[i*9:i*9+9, j*9:j*9+9]\n",
        "\n",
        "        return tiles\n",
        "\n",
        "    def __getitem__(self, index):\n",
        "        n_grids = self.grid_size ** 2\n",
        "        tiles = self.__get_tiles(index)\n",
        "\n",
        "        order = self.__retrieve_permutations()\n",
        "\n",
        "        data_index = torch.from_numpy(np.array(order))\n",
        "\n",
        "        data = [torch.from_numpy(tiles[order[t]]) for t in range(n_grids)]\n",
        "\n",
        "        item = torch.stack(data, 0)\n",
        "        return item, order\n",
        "\n",
        "    def __len__(self):\n",
        "        return self.N"
      ]
    },
    {
      "cell_type": "code",
      "execution_count": null,
      "metadata": {
        "id": "pCbZylM9uqP8"
      },
      "outputs": [],
      "source": [
        "class JigsawDatasetTest_State(torch.utils.data.Dataset):\n",
        "    def __init__(self, images, permutations=10, img_transformer=None):\n",
        "        self.images = images\n",
        "        self.permutations = permutations\n",
        "\n",
        "        self.N = len(self.images)\n",
        "        self.grid_size = 3\n",
        "\n",
        "    def __retrieve_permutations(self):\n",
        "        nums = range(self.grid_size * self.grid_size)\n",
        "\n",
        "        \"\"\"\n",
        "        permutations = []\n",
        "        for i in range(self.permutations):\n",
        "            permutations.append(np.random.permutation(nums))\n",
        "        \"\"\"\n",
        "\n",
        "        return np.random.permutation(nums)\n",
        "\n",
        "    def __get_image(self, index):\n",
        "        return self.images[index]\n",
        "\n",
        "    def __get_tiles(self, index):\n",
        "        img = self.__get_image(index).reshape(28, 28)\n",
        "        tiles = np.zeros((9, 9, 9), dtype='float32')\n",
        "\n",
        "        for i in range(3):\n",
        "            for j in range(3):\n",
        "                tiles[i * 3 + j] = img[i*9:i*9+9, j*9:j*9+9]\n",
        "\n",
        "        return tiles\n",
        "\n",
        "    def __getitem__(self, index):\n",
        "        n_grids = self.grid_size ** 2\n",
        "        tiles = self.__get_tiles(index)\n",
        "\n",
        "        order = self.__retrieve_permutations()\n",
        "\n",
        "        data_index = torch.from_numpy(np.array(order))\n",
        "\n",
        "        data = [torch.from_numpy(tiles[order[t]]) for t in range(n_grids)]\n",
        "\n",
        "        item = torch.stack(data, 0)\n",
        "        return item, order\n",
        "\n",
        "    def __len__(self):\n",
        "        return self.N"
      ]
    },
    {
      "cell_type": "markdown",
      "metadata": {
        "id": "VK-uiBAdgdm7"
      },
      "source": [
        "# Initialize the Datasets"
      ]
    },
    {
      "cell_type": "code",
      "execution_count": null,
      "metadata": {
        "colab": {
          "base_uri": "https://localhost:8080/"
        },
        "id": "9WZ_Zfxy7fK-",
        "outputId": "9c095e50-46d6-43ae-b502-3d19dff327cf"
      },
      "outputs": [
        {
          "output_type": "stream",
          "name": "stdout",
          "text": [
            "Train dataset samples = 41999, batches = 41999\n",
            "Val dataset samples = 18000, batches = 18000\n",
            "Test dataset samples = 9999, batches = 9999\n"
          ]
        }
      ],
      "source": [
        "train_data = JigsawDataset(train_images, train_labels)\n",
        "val_data = JigsawDataset(val_images, val_labels)\n",
        "test_data = JigsawDatasetTest(test_images)\n",
        "train_data_value = ValueDataset(train_images, train_labels)\n",
        "val_data_value = ValueDataset(val_images, val_labels)\n",
        "test_data_value = ValueDatasetTest(test_images)\n",
        "\n",
        "train_loader = torch.utils.data.DataLoader(\n",
        "        dataset     = train_data,\n",
        "        num_workers = 2,\n",
        "        batch_size  = 1,\n",
        "        pin_memory  = True,\n",
        "        shuffle     = True,\n",
        ")\n",
        "\n",
        "val_loader = torch.utils.data.DataLoader(\n",
        "        dataset     = val_data,\n",
        "        num_workers = 1,\n",
        "        batch_size  = 1,\n",
        "        pin_memory  = True,\n",
        "        shuffle     = False,\n",
        "    )\n",
        "\n",
        "test_loader = torch.utils.data.DataLoader(\n",
        "        dataset     = test_data,\n",
        "        num_workers = 1,\n",
        "        batch_size  = 1,\n",
        "        pin_memory  = True,\n",
        "        shuffle     = False,\n",
        "    )\n",
        "\n",
        "print(\"Train dataset samples = {}, batches = {}\".format(train_data.__len__(), len(train_loader)))\n",
        "print(\"Val dataset samples = {}, batches = {}\".format(val_data.__len__(), len(val_loader)))\n",
        "print(\"Test dataset samples = {}, batches = {}\".format(test_data.__len__(), len(test_loader)))\n",
        "\n",
        "\n",
        "train_loader_value = torch.utils.data.DataLoader(\n",
        "        dataset     = train_data_value,\n",
        "        num_workers = 2,\n",
        "        batch_size  = 32,\n",
        "        pin_memory  = True,\n",
        "        shuffle     = True,\n",
        ")\n",
        "\n",
        "val_loader_value = torch.utils.data.DataLoader(\n",
        "        dataset     = val_data_value,\n",
        "        num_workers = 2,\n",
        "        batch_size  = 32,\n",
        "        pin_memory  = True,\n",
        "        shuffle     = False,\n",
        "    )\n",
        "\n",
        "test_loader_value = torch.utils.data.DataLoader(\n",
        "        dataset     = test_data_value,\n",
        "        num_workers = 1,\n",
        "        batch_size  = 32,\n",
        "        pin_memory  = True,\n",
        "        shuffle     = False,\n",
        "    )"
      ]
    },
    {
      "cell_type": "code",
      "execution_count": null,
      "metadata": {
        "id": "H6JLpkFB9GoO"
      },
      "outputs": [],
      "source": [
        "train_data_state = JigsawDataset_State(train_images, train_labels)\n",
        "val_data_state = JigsawDataset_State(val_images, val_labels)\n",
        "test_data_state = JigsawDatasetTest_State(test_images)\n",
        "\n",
        "train_loader_state = torch.utils.data.DataLoader(\n",
        "        dataset     = train_data_state,\n",
        "        num_workers = 2,\n",
        "        batch_size  = batch_size_train,\n",
        "        pin_memory  = True,\n",
        "        shuffle     = True,\n",
        ")\n",
        "\n",
        "val_loader_state = torch.utils.data.DataLoader(\n",
        "        dataset     = val_data_state,\n",
        "        num_workers = 1,\n",
        "        batch_size  = batch_size_train,\n",
        "        pin_memory  = True,\n",
        "        shuffle     = False,\n",
        "    )\n",
        "\n",
        "test_loader_state = torch.utils.data.DataLoader(\n",
        "        dataset     = test_data_state,\n",
        "        num_workers = 1,\n",
        "        batch_size  = batch_size_test,\n",
        "        pin_memory  = True,\n",
        "        shuffle     = False,\n",
        "    )"
      ]
    },
    {
      "cell_type": "markdown",
      "metadata": {
        "id": "B_Q6JFn5-ARo"
      },
      "source": [
        "### Test the Datasets and Plot some inputs"
      ]
    },
    {
      "cell_type": "code",
      "execution_count": null,
      "metadata": {
        "colab": {
          "base_uri": "https://localhost:8080/",
          "height": 1000
        },
        "id": "c9eq7V3D8XjL",
        "outputId": "f0b98f26-6f33-4081-bae9-5bc575605cf7"
      },
      "outputs": [
        {
          "output_type": "stream",
          "name": "stdout",
          "text": [
            "tensor([[4, 7, 3, 2, 6, 0, 5, 8, 1]])\n",
            "tensor([0])\n",
            "tensor([5])\n",
            "tensor([8])\n",
            "tensor([3])\n",
            "tensor([2])\n",
            "tensor([0])\n",
            "tensor([6])\n",
            "tensor([4])\n",
            "tensor([1])\n",
            "tensor([7])\n"
          ]
        },
        {
          "output_type": "display_data",
          "data": {
            "text/plain": [
              "<Figure size 800x800 with 9 Axes>"
            ],
            "image/png": "[encoded data removed]"
          },
          "metadata": {}
        },
        {
          "output_type": "display_data",
          "data": {
            "text/plain": [
              "<Figure size 800x800 with 9 Axes>"
            ],
            "image/png": "[encoded data removed]"
          },
          "metadata": {}
        }
      ],
      "source": [
        "import matplotlib.pyplot as plt\n",
        "\n",
        "for tiles, order, label in train_loader:\n",
        "  fig, ax = plt.subplots(nrows=3, ncols=3, figsize=(8,8))\n",
        "  fig.subplots_adjust(hspace=.2)\n",
        "\n",
        "  for i in range(3):\n",
        "      for j in range(3):\n",
        "          ax[i][j].axis('off')\n",
        "          ax[i][j].imshow(tiles[0][i * 3 + j], cmap='gray')\n",
        "  print(order)\n",
        "  print(label)\n",
        "\n",
        "  fig, ax = plt.subplots(nrows=3, ncols=3, figsize=(8,8))\n",
        "  fig.subplots_adjust(hspace=.2)\n",
        "\n",
        "  for i in range(3):\n",
        "      for j in range(3):\n",
        "          ax[i][j].axis('off')\n",
        "          print((order[0]==i * 3 + j).nonzero(as_tuple=True)[0])\n",
        "          ax[i][j].imshow(tiles[0][(order[0]==i * 3 + j).nonzero(as_tuple=True)[0].item()], cmap='gray')\n",
        "\n",
        "  break"
      ]
    },
    {
      "cell_type": "code",
      "execution_count": null,
      "metadata": {
        "colab": {
          "base_uri": "https://localhost:8080/",
          "height": 465
        },
        "id": "cv2dahQ1OamZ",
        "outputId": "e700695e-ecb8-4608-cf84-cf075ad77c47"
      },
      "outputs": [
        {
          "output_type": "stream",
          "name": "stdout",
          "text": [
            "torch.Size([32, 3, 27, 27])\n",
            "tensor(0.7500)\n"
          ]
        },
        {
          "output_type": "display_data",
          "data": {
            "text/plain": [
              "<Figure size 640x480 with 1 Axes>"
            ],
            "image/png": "[encoded data removed]"
          },
          "metadata": {}
        }
      ],
      "source": [
        "for img, shuffles, label in train_loader_value:\n",
        "  print(img.shape)\n",
        "  plt.imshow(img[0,0,:,:], cmap='gray')\n",
        "  print(shuffles[0])\n",
        "\n",
        "  break"
      ]
    },
    {
      "cell_type": "code",
      "execution_count": null,
      "metadata": {
        "colab": {
          "base_uri": "https://localhost:8080/",
          "height": 711
        },
        "id": "Of2vuSQx9hN_",
        "outputId": "fbd7371d-429f-49a3-be94-2b5ea84cfeee"
      },
      "outputs": [
        {
          "output_type": "stream",
          "name": "stdout",
          "text": [
            "torch.Size([32, 3, 28, 28])\n",
            "torch.Size([32, 3, 9, 9])\n",
            "tensor([8, 8, 8, 8, 8, 8, 8, 8, 8, 8, 8, 8, 8, 8, 8, 8, 8, 8, 8, 8, 8, 8, 8, 8,\n",
            "        8, 8, 8, 8, 8, 8, 8, 8])\n",
            "tensor([0, 8, 8, 8, 6, 3, 6, 0, 4, 6, 4, 1, 3, 7, 2, 0, 5, 3, 3, 1, 4, 6, 7, 1,\n",
            "        2, 1, 3, 6, 4, 7, 0, 4])\n",
            "tensor([3, 5, 2, 7, 8, 4, 1, 6, 0])\n"
          ]
        },
        {
          "output_type": "display_data",
          "data": {
            "text/plain": [
              "<Figure size 1500x1500 with 2 Axes>"
            ],
            "image/png": "[encoded data removed]"
          },
          "metadata": {}
        }
      ],
      "source": [
        "for img, cur_pieces, tiles, tiles_shuffl, tile_list, order, label in train_loader_state:\n",
        "  fig, ax = plt.subplots( ncols=2, figsize=(15,15))\n",
        "  fig.subplots_adjust(hspace=.2)\n",
        "\n",
        "  print(img.shape)\n",
        "  print(tiles_shuffl.shape)\n",
        "  # print(cur_pieces[0])\n",
        "  ax[0].axis('off')\n",
        "  ax[0].imshow(img[0,0,:,:], cmap='gray')\n",
        "  print(cur_pieces)\n",
        "  print(tile_list)\n",
        "  print(order[0])\n",
        "  ax[1].imshow(tiles_shuffl[0,0,:,:], cmap='gray')\n",
        "\n",
        "  break"
      ]
    },
    {
      "cell_type": "markdown",
      "metadata": {
        "id": "EbSUEtvaiezt"
      },
      "source": [
        "## Value Network"
      ]
    },
    {
      "cell_type": "code",
      "execution_count": null,
      "metadata": {
        "id": "xmA8xL9yc-xx"
      },
      "outputs": [],
      "source": [
        "class ValueNetwork(nn.Module):\n",
        "    def __init__(self):\n",
        "        super().__init__()\n",
        "\n",
        "        self.resnet = torchvision.models.resnet18(pretrained=True)\n",
        "        self.linear = nn.Linear(1000, 16)\n",
        "        self.linear2 = nn.Linear(16, 1)\n",
        "        self.softmax = nn.Softmax()\n",
        "        self.flat = nn.Flatten()\n",
        "\n",
        "\n",
        "\n",
        "    def forward(self, x):\n",
        "\n",
        "        x = self.resnet(x)\n",
        "        x = self.linear(x)\n",
        "        x = self.linear2(x)\n",
        "        # x = self.softmax(x)\n",
        "        x = self.flat(x)\n",
        "        x = torch.squeeze(x)\n",
        "\n",
        "        return x"
      ]
    },
    {
      "cell_type": "code",
      "execution_count": null,
      "metadata": {
        "id": "HPoT1R-fuTc6"
      },
      "outputs": [],
      "source": [
        "# class ValueNetwork(nn.Module):\n",
        "#     def __init__(self):\n",
        "#         super().__init__()\n",
        "#         self.conv1 = nn.Conv2d(3, 28, kernel_size=(3,3), stride=1, padding=1)\n",
        "#         self.act1 = nn.ReLU()\n",
        "#         # self.drop1 = nn.Dropout(0.3)\n",
        "\n",
        "#         self.conv2 = nn.Conv2d(28, 28, kernel_size=(3,3), stride=1, padding=1)\n",
        "#         self.act2 = nn.ReLU()\n",
        "#         self.pool2 = nn.MaxPool2d(kernel_size=(2, 2))\n",
        "\n",
        "#         self.flat = nn.Flatten()\n",
        "\n",
        "#         self.fc3 = nn.Linear(128, 16)\n",
        "#         self.act3 = nn.ReLU()\n",
        "#         # self.drop3 = nn.Dropout(0.1)\n",
        "\n",
        "#         self.fc4 = nn.Linear(16, 1)\n",
        "#         self.act4 = nn.Sigmoid()\n",
        "\n",
        "#     def forward(self, x):\n",
        "#         # input 3x32x32, output 32x32x32\n",
        "#         x = self.act1(self.conv1(x))\n",
        "#         # x = self.drop1(x)\n",
        "#         # input 32x32x32, output 32x32x32\n",
        "#         x = self.act2(self.conv2(x))\n",
        "#         # input 32x32x32, output 32x16x16\n",
        "#         x = self.pool2(x)\n",
        "#         # input 32x16x16, output 8192\n",
        "#         x = self.flat(x)\n",
        "#         # input 8192, output 512\n",
        "#         x = self.act3(self.fc3(x))\n",
        "#         x = self.fc4(x)\n",
        "#         x = self.act4(x)\n",
        "#         return x"
      ]
    },
    {
      "cell_type": "markdown",
      "metadata": {
        "id": "164y5CEXjEAi"
      },
      "source": [
        "# Model Training"
      ]
    },
    {
      "cell_type": "code",
      "execution_count": null,
      "metadata": {
        "id": "9Sh-rXAHosMH"
      },
      "outputs": [],
      "source": [
        "Model_val = ValueNetwork()"
      ]
    },
    {
      "cell_type": "code",
      "execution_count": null,
      "metadata": {
        "id": "umu8TKiGlNfm"
      },
      "outputs": [],
      "source": [
        "criterion_state = torch.nn.CrossEntropyLoss()\n",
        "Model_state = JigsawModel()\n",
        "optimizer_state = torch.optim.SGD(Model_state.parameters(), lr=0.01, momentum=0.9, weight_decay=0.0001)\n"
      ]
    },
    {
      "cell_type": "code",
      "execution_count": null,
      "metadata": {
        "id": "y6-o3RdYx1PZ"
      },
      "outputs": [],
      "source": [
        "def train_value(model, dataloader, optimizer, criterion, iter_number):\n",
        "\n",
        "    model.train()\n",
        "    optimizer.zero_grad()\n",
        "    # Progress Bar\n",
        "    batch_bar   = tqdm(total=len(dataloader), dynamic_ncols=True, leave=False, position=0, desc='Train', ncols=5)\n",
        "\n",
        "    tot_error = 0\n",
        "    total_loss  = 0\n",
        "    error_percs = []\n",
        "    losses = []\n",
        "    for i, (images, labels, num_label) in enumerate(dataloader):\n",
        "\n",
        "        # optimizer.zero_grad() # Zero gradients\n",
        "        images, labels = images.to(DEVICE), labels.to(DEVICE)\n",
        "        # labels = torch.zeros((32,1), dtype=torch.float32)\n",
        "        with torch.cuda.amp.autocast(): # This implements mixed precision. Thats it!\n",
        "            outputs = model(images)\n",
        "            loss    = criterion(outputs, labels)\n",
        "\n",
        "        # print(outputs.shape)\n",
        "        # print(labels.shape)\n",
        "        tot_error     += float(sum((outputs - labels)**2))\n",
        "        total_loss      += float(loss.item())\n",
        "        error_perc         =100 * tot_error / (batch_size_train*(i + 1))\n",
        "        # tqdm lets you add some details so you can monitor training as you train.\n",
        "        batch_bar.set_postfix(\n",
        "            error_perc         = \"{:.04f}%\".format(100 * tot_error / (batch_size_train*(i + 1))),\n",
        "            loss        = \"{:.04f}\".format(float(total_loss / (i + 1))),\n",
        "            tot_error = tot_error,\n",
        "            iter_number = iter_number\n",
        "            # lr          = \"{:.04f}\".format(float(optimizer.param_groups[0]['lr']))\n",
        "        )\n",
        "\n",
        "        if i % 10 == 0:\n",
        "          losses.append(loss)\n",
        "          error_percs.append(error_perc)\n",
        "        # scaler.scale(loss).backward() # This is a replacement for loss.backward()\n",
        "        # scaler.step(optimizer) # This is a replacement for optimizer.step()\n",
        "        # scaler.update()\n",
        "        optimizer.zero_grad()\n",
        "        loss.backward()\n",
        "        optimizer.step()\n",
        "\n",
        "        # for param in model.parameters():\n",
        "        #   print(param.grad.data.sum())\n",
        "\n",
        "\n",
        "        batch_bar.update() # Update tqdm bar\n",
        "\n",
        "    batch_bar.close() # You need this to close the tqdm bar\n",
        "\n",
        "    error_perc         = 100 * tot_error / (batch_size_train* len(dataloader))\n",
        "    total_loss  = float(total_loss / len(dataloader))\n",
        "\n",
        "    return error_perc, total_loss, losses, error_percs"
      ]
    },
    {
      "cell_type": "code",
      "source": [
        "def validate_value(model, dataloader, criterion):\n",
        "\n",
        "    model.eval()\n",
        "    batch_bar = tqdm(total=len(dataloader), dynamic_ncols=True, position=0, leave=False, desc='Val', ncols=5)\n",
        "\n",
        "    tot_error = 0.0\n",
        "    total_loss = 0.0\n",
        "\n",
        "    for i, (images, labels, num_label) in enumerate(dataloader):\n",
        "\n",
        "        # Move images to device\n",
        "\n",
        "\n",
        "        # Get model outputs\n",
        "        with torch.inference_mode():\n",
        "          images, labels = images.to(DEVICE), labels.to(DEVICE)\n",
        "          outputs = model(images)\n",
        "          loss = criterion(outputs, labels)\n",
        "\n",
        "\n",
        "        tot_error     += float(sum((outputs - labels)**2))\n",
        "        total_loss      += float(loss.item())\n",
        "        error_perc         =100 * tot_error / (batch_size_train*(i + 1))\n",
        "\n",
        "        batch_bar.set_postfix(\n",
        "            error_perc         = \"{:.04f}%\".format(100 * tot_error / (batch_size_train*(i + 1))),\n",
        "            loss        = \"{:.04f}\".format(float(total_loss / (i + 1))),\n",
        "            tot_error = tot_error\n",
        "            # lr          = \"{:.04f}\".format(float(optimizer.param_groups[0]['lr']))\n",
        "        )\n",
        "\n",
        "        batch_bar.update()\n",
        "\n",
        "    batch_bar.close()\n",
        "    error_perc         = 100 * tot_error / (batch_size_train* len(dataloader))\n",
        "    total_loss  = float(total_loss / len(dataloader))\n",
        "    return error_perc, total_loss"
      ],
      "metadata": {
        "id": "uh8QmQACk9Ja"
      },
      "execution_count": null,
      "outputs": []
    },
    {
      "cell_type": "code",
      "execution_count": null,
      "metadata": {
        "id": "2tucOphM_M4b",
        "colab": {
          "base_uri": "https://localhost:8080/"
        },
        "outputId": "a1e31123-6576-427a-f91f-a787a808e1ec"
      },
      "outputs": [
        {
          "output_type": "stream",
          "name": "stderr",
          "text": [
            "/usr/local/lib/python3.10/dist-packages/torchvision/models/_utils.py:208: UserWarning: The parameter 'pretrained' is deprecated since 0.13 and may be removed in the future, please use 'weights' instead.\n",
            "  warnings.warn(\n",
            "/usr/local/lib/python3.10/dist-packages/torchvision/models/_utils.py:223: UserWarning: Arguments other than a weight enum or `None` for 'weights' are deprecated since 0.13 and may be removed in the future. The current behavior is equivalent to passing `weights=ResNet18_Weights.IMAGENET1K_V1`. You can also use `weights=ResNet18_Weights.DEFAULT` to get the most up-to-date weights.\n",
            "  warnings.warn(msg)\n"
          ]
        }
      ],
      "source": [
        "criterion_value = torch.nn.MSELoss()\n",
        "Model_val = ValueNetwork().to(DEVICE)\n",
        "# summary(Model_val, (3, 27, 27))\n",
        "optimizer_val = torch.optim.SGD(Model_val.parameters(), lr=0.001, momentum=0.9, weight_decay=0.0001)\n"
      ]
    },
    {
      "cell_type": "code",
      "execution_count": null,
      "metadata": {
        "id": "Y2_Wv7DiKjZJ"
      },
      "outputs": [],
      "source": [
        "train_errors = []\n",
        "train_losses = []\n",
        "val_errors = []\n",
        "val_losses = []\n",
        "test_errors = []\n",
        "test_losses = []\n",
        "a = []\n",
        "b = []"
      ]
    },
    {
      "cell_type": "code",
      "execution_count": null,
      "metadata": {
        "colab": {
          "base_uri": "https://localhost:8080/"
        },
        "id": "XJxLoHIuP51-",
        "outputId": "8e593c73-eec3-4841-9ace-ba9d2301448f"
      },
      "outputs": [
        {
          "output_type": "stream",
          "name": "stderr",
          "text": []
        }
      ],
      "source": [
        "for i in range(11):\n",
        "  err, total_loss, losses, error_percs = train_value(Model_val, train_loader_value, optimizer_val, criterion_value, i)\n",
        "  train_errors.append(err)\n",
        "  train_losses.append(total_loss)\n",
        "  a.append(losses)\n",
        "  b += error_percs\n",
        "  torch.save({'model_state_dict':Model_val.state_dict(),\n",
        "              'optimizer_state_dict':optimizer_val.state_dict()}, '/content/drive/MyDrive/11-785 Project/Models/model_value.pth')\n",
        "  val_error, val_loss = validate_value(Model_val, val_loader_value, criterion_value)\n",
        "  val_errors.append(val_error)\n",
        "  val_losses.append(val_loss)"
      ]
    },
    {
      "cell_type": "markdown",
      "source": [
        "## Training Results"
      ],
      "metadata": {
        "id": "3vyG38W3iaFj"
      }
    },
    {
      "cell_type": "code",
      "source": [
        "print(validate_value(Model_val, val_loader_value, criterion_value))"
      ],
      "metadata": {
        "colab": {
          "base_uri": "https://localhost:8080/"
        },
        "id": "Qzu3qqaDl1eE",
        "outputId": "f8a63639-b303-473e-c35c-117fa4043d1a"
      },
      "execution_count": null,
      "outputs": [
        {
          "output_type": "stream",
          "name": "stderr",
          "text": [
            "                                                                                                      "
          ]
        },
        {
          "output_type": "stream",
          "name": "stdout",
          "text": [
            "(2.901614982581848, 0.029040089178148848)\n"
          ]
        },
        {
          "output_type": "stream",
          "name": "stderr",
          "text": [
            "\r"
          ]
        }
      ]
    },
    {
      "cell_type": "code",
      "source": [
        "print(val_errors)"
      ],
      "metadata": {
        "colab": {
          "base_uri": "https://localhost:8080/"
        },
        "id": "XKMPtIUJ-Bgc",
        "outputId": "6e7ec9bc-9519-4b08-e6d1-70477fe0e4aa"
      },
      "execution_count": null,
      "outputs": [
        {
          "output_type": "stream",
          "name": "stdout",
          "text": [
            "[2.8552196835553136, 2.4872643932647223, 2.2019749694234205, 2.1665470060920526, 2.051487016668593, 1.9604710644097803, 2.0658194419942784, 1.8474590303756786, 1.7901631805807563, 1.744661505332425, 1.7458351841775392, 1.7073726824933058, 1.624394588413951, 1.6464488797525, 1.636039430265634, 1.5593960576444255, 1.5990722464599363, 1.538544831190384, 1.5803497043135535, 1.5517863890794676, 1.5303495162221243, 1.5418388222412043, 1.5049932532005845, 1.4647004481563823, 1.4675821280222696, 1.463381384729307, 1.4592129239220284, 1.414381028698893, 1.397715718361349, 1.4206637615969877, 1.4623172444723163, 1.4208944489580595, 1.383787328931528, 1.4259359731502685, 1.350958836240095, 1.4337450551649897, 1.440598416848515, 1.3339378777560555, 1.3726230536225263, 1.3300907093416205, 1.336803371012277, 1.2745342379498756, 1.4101082276301475, 1.356644120206312, 1.331032165218654, 1.30441839323705, 1.313134039740606, 1.3536622488894376, 1.3134708961382588, 1.2827646444248926, 1.3118763586595574]\n"
          ]
        }
      ]
    },
    {
      "cell_type": "code",
      "source": [
        "print(train_errors)"
      ],
      "metadata": {
        "id": "nfLkIm_J_euD",
        "outputId": "ada33f2b-514a-4d0a-e53c-a39cab311dfe",
        "colab": {
          "base_uri": "https://localhost:8080/"
        }
      },
      "execution_count": null,
      "outputs": [
        {
          "output_type": "stream",
          "name": "stdout",
          "text": [
            "[5.320916808744423, 3.1038962643641783, 2.6996521131679563, 2.58978751912906, 2.4938651000242467, 2.3739806109697468, 2.2917548129980516, 2.1713490642590187, 2.1819295808502672, 2.0960447010325276, 2.0132173956793884, 2.0456956057920657, 1.9867964184318825, 1.9067411355657244, 1.8778552306547862, 1.8311375236778498, 1.8221320453903553, 1.7871125422486211, 1.7591849787292686, 1.7216038914654128, 1.723500807795841, 1.688065034034467, 1.6579895226394095, 1.641130223529809, 1.6106221892623414, 1.5818960114218357, 1.5792026324233115, 1.5598164010588689, 1.5130468619375945, 1.531852074254727, 1.527639098397349, 1.5424039449453388, 1.5192268834423106, 1.4788599060288001, 1.5058873115945821, 1.4727084155876107, 1.4419506798354342, 1.432227413152307, 1.4531445002533716, 1.426189652341223, 1.4094234822262632, 1.4151988999835823, 1.412462737228259, 1.3885617965296115, 1.4061067194833228, 1.3677416847038502, 1.396380851392103, 1.362262432791877, 1.3826503259146137, 1.3649019971277114, 1.334846620600435]\n"
          ]
        }
      ]
    },
    {
      "cell_type": "code",
      "execution_count": null,
      "metadata": {
        "id": "YMgxUMz7Kj91"
      },
      "outputs": [],
      "source": [
        "# model = ValueNetwork()\n",
        "# model.load_state_dict('/content/drive/MyDrive/11-785 Project/Models/model_policy.pth')\n"
      ]
    },
    {
      "cell_type": "code",
      "execution_count": null,
      "metadata": {
        "id": "_1UhK2LxjDe7"
      },
      "outputs": [],
      "source": [
        "# torch.save({'model_state_dict':Model_val.state_dict(),\n",
        "#             'optimizer_state_dict':optimizer_val.state_dict()}, '/content/drive/MyDrive/11-785 Project/Models/model_value.pth')"
      ]
    },
    {
      "cell_type": "code",
      "execution_count": null,
      "metadata": {
        "id": "95ndcGEtILMo"
      },
      "outputs": [],
      "source": [
        "import matplotlib.pyplot as plt\n",
        "plt.plot(errors)\n",
        "plt.xlabel('Epochs')\n",
        "plt.ylabel('Mean Squared Error (%)')\n",
        "plt.show()"
      ]
    },
    {
      "cell_type": "code",
      "execution_count": null,
      "metadata": {
        "colab": {
          "base_uri": "https://localhost:8080/",
          "height": 453
        },
        "id": "xLH26A6zKObn",
        "outputId": "7a73e5a6-0bc2-473a-9c0b-ab377d1a38f0"
      },
      "outputs": [
        {
          "output_type": "display_data",
          "data": {
            "text/plain": [
              "<Figure size 640x480 with 1 Axes>"
            ],
            "image/png": "[encoded data removed]"
          },
          "metadata": {}
        }
      ],
      "source": [
        "import matplotlib.pyplot as plt\n",
        "plt.plot(train_losses, label = 'Training Loss')\n",
        "plt.plot(val_losses, label = 'Validation Loss')\n",
        "plt.xlabel('Epochs')\n",
        "plt.ylabel('MSE Loss')\n",
        "plt.legend()\n",
        "plt.show()"
      ]
    }
  ],
  "metadata": {
    "accelerator": "GPU",
    "colab": {
      "collapsed_sections": [
        "IxQyWD50iZ6o",
        "EbSUEtvaiezt"
      ],
      "provenance": []
    },
    "kernelspec": {
      "display_name": "Python 3",
      "name": "python3"
    },
    "language_info": {
      "name": "python"
    }
  },
  "nbformat": 4,
  "nbformat_minor": 0
}