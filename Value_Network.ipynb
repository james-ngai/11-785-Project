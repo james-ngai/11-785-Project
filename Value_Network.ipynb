{
  "cells": [
    {
      "cell_type": "code",
      "execution_count": null,
      "metadata": {
        "colab": {
          "base_uri": "https://localhost:8080/"
        },
        "id": "zOahaUUH2_r1",
        "outputId": "3da1b593-d09d-4ca5-fe09-9424d61a7e6b"
      },
      "outputs": [
        {
          "name": "stdout",
          "output_type": "stream",
          "text": [
            "Device:  cuda\n"
          ]
        }
      ],
      "source": [
        "import torchvision\n",
        "import torch\n",
        "import numpy as np\n",
        "from collections import defaultdict\n",
        "import torch.nn as nn\n",
        "from ast import Continue\n",
        "\n",
        "import pandas as pd\n",
        "from sklearn.model_selection import train_test_split\n",
        "from torchsummary import summary\n",
        "from tqdm import tqdm\n",
        "\n",
        "DEVICE = 'cuda' if torch.cuda.is_available() else 'cpu'\n",
        "print(\"Device: \", DEVICE)"
      ]
    },
    {
      "cell_type": "markdown",
      "metadata": {},
      "source": [
        "from google.colab import drive\n",
        "drive.mount('/content/drive')\n",
        "!cp '/content/drive/MyDrive/11-785 Project/MNIST_CSV.zip' MNIST_CSV.zip"
      ]
    },
    {
      "cell_type": "code",
      "execution_count": null,
      "metadata": {
        "colab": {
          "base_uri": "https://localhost:8080/"
        },
        "id": "YDSWbKbx7QMi",
        "outputId": "af1594d4-2d77-4f2a-857d-36ff5847efb6"
      },
      "outputs": [],
      "source": [
        "!unzip data/MNIST_CSV.zip"
      ]
    },
    {
      "cell_type": "markdown",
      "metadata": {},
      "source": [
        "## Config"
      ]
    },
    {
      "cell_type": "code",
      "execution_count": null,
      "metadata": {
        "id": "POb7_hvA4hFx"
      },
      "outputs": [],
      "source": [
        "n_epochs = 20\n",
        "batch_size_train = 32\n",
        "batch_size_test = 1000\n",
        "learning_rate = 0.01\n",
        "momentum = 0.5\n",
        "log_interval = 10\n",
        "random_seed = 1\n",
        "torch.backends.cudnn.enabled = False\n",
        "torch.manual_seed(random_seed)\n",
        "HYPER_GRAYSCALE = True"
      ]
    },
    {
      "cell_type": "code",
      "execution_count": null,
      "metadata": {},
      "outputs": [],
      "source": [
        "config = {\n",
        "    'n_epochs': n_epochs,\n",
        "    'batch_size_train': batch_size_train,\n",
        "    'batch_size_test': batch_size_test,\n",
        "    'learning_rate': learning_rate,\n",
        "    'momentum': momentum,\n",
        "    'log_interval': log_interval,\n",
        "    'random_seed': random_seed,\n",
        "    'HYPER_GRAYSCALE': HYPER_GRAYSCALE\n",
        "}"
      ]
    },
    {
      "cell_type": "markdown",
      "metadata": {},
      "source": [
        "## Data Preprocessing"
      ]
    },
    {
      "cell_type": "code",
      "execution_count": null,
      "metadata": {
        "id": "be_xMhZO5tfl"
      },
      "outputs": [],
      "source": [
        "train_set = pd.read_csv(\"mnist_train.csv\")\n",
        "test_images = pd.read_csv(\"mnist_test.csv\")\n",
        "\n",
        "train_images, val_images, train_labels, val_labels = train_test_split(train_set.iloc[:, 1:],\n",
        "                                                                     train_set.iloc[:, 0],\n",
        "                                                                     test_size=0.3)\n",
        "\n",
        "train_images.reset_index(drop=True, inplace=True)\n",
        "val_images.reset_index(drop=True, inplace=True)\n",
        "train_labels.reset_index(drop=True, inplace=True)\n",
        "val_labels.reset_index(drop=True, inplace=True)\n",
        "\n",
        "train_images = train_images.to_numpy(dtype='float32')\n",
        "train_labels = train_labels.to_numpy(dtype='float32')\n",
        "\n",
        "val_images = val_images.to_numpy()\n",
        "val_labels = val_labels.to_numpy()\n",
        "\n",
        "test_images = test_images.to_numpy()"
      ]
    },
    {
      "cell_type": "markdown",
      "metadata": {
        "id": "aoi__a7H96Pm"
      },
      "source": [
        "## Jigsaw Datasets"
      ]
    },
    {
      "cell_type": "markdown",
      "metadata": {
        "id": "zEuQwsYrg8du"
      },
      "source": [
        "### Value Network Datasets"
      ]
    },
    {
      "cell_type": "code",
      "execution_count": null,
      "metadata": {
        "id": "iXZ6ORaMeBgf"
      },
      "outputs": [],
      "source": [
        "class ValueDataset(torch.utils.data.Dataset):\n",
        "    def __init__(self, images, labels, permutations=10, img_transformer=None):\n",
        "        self.images = images\n",
        "        self.labels = labels\n",
        "        self.permutations = permutations\n",
        "\n",
        "        self.N = len(self.images)\n",
        "        self.grid_size = 3\n",
        "        self.GRAYSCALE = True\n",
        "\n",
        "    def __retrieve_permutations(self):\n",
        "        nums = range(self.grid_size * self.grid_size)\n",
        "\n",
        "        return np.random.permutation(nums)\n",
        "\n",
        "    def __get_image(self, index):\n",
        "        return self.images[index]\n",
        "\n",
        "    def __get_shuffled_image(self, index,  shuffles):\n",
        "        img = self.__get_image(index).reshape(28, 28)[:27,:27]\n",
        "        shuffle_image = np.zeros((27, 27), dtype='float32')\n",
        "\n",
        "        shuff_list = np.random.choice(9, 2*shuffles, replace=False)\n",
        "        for i in range(shuffles):\n",
        "          q, w = shuff_list[i*2], shuff_list[i*2+1]\n",
        "          a, b = q//3, q % 3\n",
        "          i, j = w//3, w % 3\n",
        "          img[i*9:i*9+9, j*9:j*9+9], img[a*9:a*9+9, b*9:b*9+9] = img[a*9:a*9+9, b*9:b*9+9] , img[i*9:i*9+9, j*9:j*9+9]\n",
        "\n",
        "        return img\n",
        "\n",
        "    def __getitem__(self, index):\n",
        "        n_grids = self.grid_size ** 2\n",
        "        shuffles = np.random.randint(0,5)\n",
        "\n",
        "        # order = self.__retrieve_permutations()\n",
        "        item = self.__get_shuffled_image(index, shuffles)\n",
        "\n",
        "        data_index = torch.from_numpy(np.array(order))\n",
        "        # data = [torch.from_numpy(tiles[order[t]]) for t in range(n_grids)]\n",
        "        # item = torch.stack(data, 0)\n",
        "        if self.GRAYSCALE:\n",
        "          item = np.repeat(item[ np.newaxis, :, :], 3, axis=0)\n",
        "\n",
        "        return item, torch.tensor(1 - 0.25*shuffles, dtype = torch.float32), int(self.labels[index])\n",
        "\n",
        "    def __len__(self):\n",
        "        return self.N"
      ]
    },
    {
      "cell_type": "markdown",
      "metadata": {
        "id": "aIR4ZOdCgWZa"
      },
      "source": [
        "### Test Datasets"
      ]
    },
    {
      "cell_type": "code",
      "execution_count": null,
      "metadata": {
        "id": "AZGnjAUKv-f7"
      },
      "outputs": [],
      "source": [
        "class ValueDatasetTest(torch.utils.data.Dataset):\n",
        "    def __init__(self, images, permutations=10, img_transformer=None):\n",
        "        self.images = images\n",
        "        self.permutations = permutations\n",
        "\n",
        "        self.N = len(self.images)\n",
        "        self.grid_size = 3\n",
        "        self.GRAYSCALE = True\n",
        "\n",
        "    def __retrieve_permutations(self):\n",
        "        nums = range(self.grid_size * self.grid_size)\n",
        "\n",
        "        return np.random.permutation(nums)\n",
        "\n",
        "    def __get_image(self, index):\n",
        "        return self.images[index]\n",
        "\n",
        "    def __get_shuffled_image(self, index,  shuffles):\n",
        "        img = self.__get_image(index).reshape(28, 28)[:27,:27]\n",
        "        shuffle_image = np.zeros((27, 27), dtype='float32')\n",
        "\n",
        "        shuff_list = np.random.choice(9, 2*shuffles, replace=False)\n",
        "        for i in range(shuffles):\n",
        "          q, w = shuff_list[i*2], shuff_list[i*2+1]\n",
        "          a, b = q//3, q % 3\n",
        "          i, j = w//3, w % 3\n",
        "          img[a*9:a*9+9, b*9:b*9+9] = img[i*9:i*9+9, j*9:j*9+9]\n",
        "\n",
        "        return img\n",
        "\n",
        "    def __getitem__(self, index):\n",
        "        n_grids = self.grid_size ** 2\n",
        "        shuffles = np.random.randint(0,5)\n",
        "\n",
        "        # order = self.__retrieve_permutations()\n",
        "        item = self.__get_shuffled_image(index, shuffles)\n",
        "\n",
        "        data_index = torch.from_numpy(np.array(order))\n",
        "        # data = [torch.from_numpy(tiles[order[t]]) for t in range(n_grids)]\n",
        "        # item = torch.stack(data, 0)\n",
        "        if self.GRAYSCALE:\n",
        "          item = np.repeat(item[ np.newaxis, :, :], 3, axis=0)\n",
        "\n",
        "        return item\n",
        "\n",
        "    def __len__(self):\n",
        "        return self.N"
      ]
    },
    {
      "cell_type": "markdown",
      "metadata": {
        "id": "VK-uiBAdgdm7"
      },
      "source": [
        "# Initialize the Datasets"
      ]
    },
    {
      "cell_type": "code",
      "execution_count": null,
      "metadata": {
        "colab": {
          "base_uri": "https://localhost:8080/"
        },
        "id": "9WZ_Zfxy7fK-",
        "outputId": "00362fc9-40c2-4715-c6dd-42f757213a50"
      },
      "outputs": [
        {
          "name": "stdout",
          "output_type": "stream",
          "text": [
            "Train dataset samples = 41999, batches = 41999\n",
            "Val dataset samples = 18000, batches = 18000\n",
            "Test dataset samples = 9999, batches = 9999\n"
          ]
        }
      ],
      "source": [
        "train_data_value = ValueDataset(train_images, train_labels)\n",
        "val_data_value = ValueDataset(val_images, val_labels)\n",
        "test_data_value = ValueDatasetTest(test_images)\n",
        "\n",
        "\n",
        "train_loader_value = torch.utils.data.DataLoader(\n",
        "        dataset     = train_data_value,\n",
        "        num_workers = 2,\n",
        "        batch_size  = 32,\n",
        "        pin_memory  = True,\n",
        "        shuffle     = True,\n",
        ")\n",
        "\n",
        "val_loader_value = torch.utils.data.DataLoader(\n",
        "        dataset     = val_data_value,\n",
        "        num_workers = 2,\n",
        "        batch_size  = 32,\n",
        "        pin_memory  = True,\n",
        "        shuffle     = False,\n",
        "    )\n",
        "\n",
        "test_loader_value = torch.utils.data.DataLoader(\n",
        "        dataset     = test_data_value,\n",
        "        num_workers = 1,\n",
        "        batch_size  = 32,\n",
        "        pin_memory  = True,\n",
        "        shuffle     = False,\n",
        "    )"
      ]
    },
    {
      "cell_type": "code",
      "execution_count": null,
      "metadata": {
        "colab": {
          "base_uri": "https://localhost:8080/",
          "height": 465
        },
        "id": "cv2dahQ1OamZ",
        "outputId": "8f72c6e7-2aa3-494b-85eb-160cb6baa5b3"
      },
      "outputs": [
        {
          "name": "stdout",
          "output_type": "stream",
          "text": [
            "torch.Size([32, 3, 27, 27])\n",
            "tensor(0.7500)\n"
          ]
        },
        {
          "data": {
            "image/png": "[encoded data removed]",
            "text/plain": [
              "<Figure size 640x480 with 1 Axes>"
            ]
          },
          "metadata": {},
          "output_type": "display_data"
        }
      ],
      "source": [
        "for img, shuffles, label in train_loader_value:\n",
        "  print(img.shape)\n",
        "  plt.imshow(img[0,0,:,:], cmap='gray')\n",
        "  print(shuffles[0])\n",
        "\n",
        "  break"
      ]
    },
    {
      "cell_type": "markdown",
      "metadata": {
        "id": "EbSUEtvaiezt"
      },
      "source": [
        "## Value Network"
      ]
    },
    {
      "cell_type": "code",
      "execution_count": null,
      "metadata": {
        "id": "xmA8xL9yc-xx"
      },
      "outputs": [],
      "source": [
        "class ValueNetwork(nn.Module):\n",
        "    def __init__(self):\n",
        "        super().__init__()\n",
        "\n",
        "        self.resnet = torchvision.models.resnet18(pretrained=True)\n",
        "        self.linear = nn.Linear(1000, 16)\n",
        "        self.linear2 = nn.Linear(16, 1)\n",
        "        self.softmax = nn.Softmax()\n",
        "        self.flat = nn.Flatten()\n",
        "\n",
        "\n",
        "\n",
        "    def forward(self, x):\n",
        "\n",
        "        x = self.resnet(x)\n",
        "        x = self.linear(x)\n",
        "        x = self.linear2(x)\n",
        "        x = self.softmax(x)\n",
        "        x = self.flat(x)\n",
        "        x = torch.squeeze(x)\n",
        "\n",
        "        return x"
      ]
    },
    {
      "cell_type": "markdown",
      "metadata": {
        "id": "164y5CEXjEAi"
      },
      "source": [
        "# Model Training"
      ]
    },
    {
      "cell_type": "code",
      "execution_count": null,
      "metadata": {
        "id": "EMRNvJHk_LkZ"
      },
      "outputs": [],
      "source": [
        "def validate(model, dataloader, criterion):\n",
        "\n",
        "    model.eval()\n",
        "    batch_bar = tqdm(total=len(dataloader), dynamic_ncols=True, position=0, leave=False, desc='Val', ncols=5)\n",
        "\n",
        "    num_correct = 0.0\n",
        "    total_loss = 0.0\n",
        "\n",
        "    for i, (images, labels) in enumerate(dataloader):\n",
        "\n",
        "        # Move images to device\n",
        "        images, labels = images.to(DEVICE), labels.to(DEVICE)\n",
        "\n",
        "        # Get model outputs\n",
        "        with torch.inference_mode():\n",
        "            outputs = model(images)\n",
        "            loss = criterion(outputs, labels)\n",
        "\n",
        "\n",
        "        num_correct += int((torch.argmax(outputs, axis=1) == labels).sum())\n",
        "        total_loss += float(loss.item())\n",
        "\n",
        "        batch_bar.set_postfix(\n",
        "            acc=\"{:.04f}%\".format(100 * num_correct / (config['batch_size']*(i + 1))),\n",
        "            loss=\"{:.04f}\".format(float(total_loss / (i + 1))),\n",
        "            num_correct=num_correct)\n",
        "\n",
        "        batch_bar.update()\n",
        "\n",
        "    batch_bar.close()\n",
        "    acc = 100 * num_correct / (config['batch_size']* len(dataloader))\n",
        "    total_loss = float(total_loss / len(dataloader))\n",
        "    return acc, total_loss"
      ]
    },
    {
      "cell_type": "markdown",
      "metadata": {
        "id": "vH7gSx8ex4qF"
      },
      "source": [
        "### **Train Value Network**"
      ]
    },
    {
      "cell_type": "code",
      "execution_count": null,
      "metadata": {
        "id": "y6-o3RdYx1PZ"
      },
      "outputs": [],
      "source": [
        "def train_value(model, dataloader, optimizer, criterion):\n",
        "\n",
        "    model.train()\n",
        "    optimizer.zero_grad()\n",
        "    # Progress Bar\n",
        "    batch_bar   = tqdm(total=len(dataloader), dynamic_ncols=True, leave=False, position=0, desc='Train', ncols=5)\n",
        "\n",
        "    tot_error = 0\n",
        "    total_loss  = 0\n",
        "    error_percs = []\n",
        "    losses = []\n",
        "    for i, (images, labels, num_label) in enumerate(dataloader):\n",
        "\n",
        "        # optimizer.zero_grad() # Zero gradients\n",
        "        images, labels = images.to(DEVICE), labels.to(DEVICE)\n",
        "        # labels = torch.zeros((32,1), dtype=torch.float32)\n",
        "        with torch.cuda.amp.autocast(): # This implements mixed precision. Thats it!\n",
        "            outputs = model(images)\n",
        "            loss    = criterion(outputs, labels)\n",
        "\n",
        "        tot_error   += float(sum((outputs - labels)**2))\n",
        "        total_loss  += float(loss.item())\n",
        "        error_perc  = 100 * tot_error / (batch_size_train*(i + 1))\n",
        "\n",
        "        batch_bar.set_postfix(\n",
        "            error_perc  = \"{:.04f}%\".format(100 * tot_error / (batch_size_train*(i + 1))),\n",
        "            loss        = \"{:.04f}\".format(float(total_loss / (i + 1))),\n",
        "            tot_error   = tot_error\n",
        "            lr          = \"{:.04f}\".format(float(optimizer.param_groups[0]['lr']))\n",
        "        )\n",
        "\n",
        "        if i % 10 == 0:\n",
        "          losses.append(loss)\n",
        "          error_percs.append(error_perc)\n",
        "        \n",
        "        # uncomment for mixed precision\n",
        "        # scaler.scale(loss).backward() # This is a replacement for loss.backward()\n",
        "        # scaler.step(optimizer) # This is a replacement for optimizer.step()\n",
        "        # scaler.update()\n",
        "\n",
        "        optimizer.zero_grad()\n",
        "        loss.backward()\n",
        "        optimizer.step()\n",
        "\n",
        "        batch_bar.update() # Update tqdm bar\n",
        "\n",
        "    batch_bar.close() # You need this to close the tqdm bar\n",
        "\n",
        "    error_perc         = 100 * tot_error / (batch_size_train* len(dataloader))\n",
        "    total_loss  = float(total_loss / len(dataloader))\n",
        "\n",
        "    return error_perc, total_loss, losses, error_percs"
      ]
    },
    {
      "cell_type": "code",
      "execution_count": null,
      "metadata": {
        "id": "2tucOphM_M4b"
      },
      "outputs": [],
      "source": [
        "criterion_value = torch.nn.MSELoss()\n",
        "Model_val = ValueNetwork().to(DEVICE)\n",
        "# summary(Model_val, (3, 27, 27))\n",
        "optimizer_val = torch.optim.SGD(Model_val.parameters(), lr=0.001, momentum=0.9, weight_decay=0.0001)\n"
      ]
    },
    {
      "cell_type": "code",
      "execution_count": null,
      "metadata": {
        "id": "Y2_Wv7DiKjZJ"
      },
      "outputs": [],
      "source": [
        "errors = []\n",
        "loss_totals = []\n",
        "a = []\n",
        "b= []"
      ]
    },
    {
      "cell_type": "code",
      "execution_count": null,
      "metadata": {
        "colab": {
          "background_save": true,
          "base_uri": "https://localhost:8080/"
        },
        "id": "XJxLoHIuP51-",
        "outputId": "15e84e02-c554-4edf-8711-bf3e027328c9"
      },
      "outputs": [
        {
          "name": "stderr",
          "output_type": "stream",
          "text": []
        }
      ],
      "source": [
        "for i in range(config['n_epochs']):\n",
        "  err, total_loss, losses, error_percs = train_value(Model_val, train_loader_value, optimizer_val, criterion_value)\n",
        "  errors.append(err)\n",
        "  loss_totals.append(total_loss)\n",
        "  a.append(losses)\n",
        "  b += error_percs\n",
        "  torch.save({'model_state_dict':Model_val.state_dict(),\n",
        "              'optimizer_state_dict':optimizer_val.state_dict()}, './model_value.pth')"
      ]
    },
    {
      "cell_type": "code",
      "execution_count": null,
      "metadata": {
        "id": "_1UhK2LxjDe7"
      },
      "outputs": [],
      "source": [
        "torch.save({'model_state_dict':Model_val.state_dict(),\n",
        "            'optimizer_state_dict':optimizer_val.state_dict()}, './model_value.pth')"
      ]
    },
    {
      "cell_type": "code",
      "execution_count": null,
      "metadata": {
        "colab": {
          "base_uri": "https://localhost:8080/",
          "height": 405
        },
        "id": "YMgxUMz7Kj91",
        "outputId": "93b7cbd0-0a83-4d61-dc7c-55f0e8bbcc77"
      },
      "outputs": [
        {
          "name": "stderr",
          "output_type": "stream",
          "text": [
            "/usr/local/lib/python3.10/dist-packages/torchvision/models/_utils.py:208: UserWarning: The parameter 'pretrained' is deprecated since 0.13 and may be removed in the future, please use 'weights' instead.\n",
            "  warnings.warn(\n",
            "/usr/local/lib/python3.10/dist-packages/torchvision/models/_utils.py:223: UserWarning: Arguments other than a weight enum or `None` for 'weights' are deprecated since 0.13 and may be removed in the future. The current behavior is equivalent to passing `weights=ResNet18_Weights.IMAGENET1K_V1`. You can also use `weights=ResNet18_Weights.DEFAULT` to get the most up-to-date weights.\n",
            "  warnings.warn(msg)\n"
          ]
        },
        {
          "ename": "TypeError",
          "evalue": "ignored",
          "output_type": "error",
          "traceback": [
            "\u001b[0;31m---------------------------------------------------------------------------\u001b[0m",
            "\u001b[0;31mTypeError\u001b[0m                                 Traceback (most recent call last)",
            "\u001b[0;32m<ipython-input-52-0be4174b3e66>\u001b[0m in \u001b[0;36m<cell line: 2>\u001b[0;34m()\u001b[0m\n\u001b[1;32m      1\u001b[0m \u001b[0mmodel\u001b[0m \u001b[0;34m=\u001b[0m \u001b[0mValueNetwork\u001b[0m\u001b[0;34m(\u001b[0m\u001b[0;34m)\u001b[0m\u001b[0;34m\u001b[0m\u001b[0;34m\u001b[0m\u001b[0m\n\u001b[0;32m----> 2\u001b[0;31m \u001b[0mmodel\u001b[0m\u001b[0;34m.\u001b[0m\u001b[0mload_state_dict\u001b[0m\u001b[0;34m(\u001b[0m\u001b[0;34m'/content/drive/MyDrive/11-785 Project/Models/model_policy.pth'\u001b[0m\u001b[0;34m)\u001b[0m\u001b[0;34m\u001b[0m\u001b[0;34m\u001b[0m\u001b[0m\n\u001b[0m",
            "\u001b[0;32m/usr/local/lib/python3.10/dist-packages/torch/nn/modules/module.py\u001b[0m in \u001b[0;36mload_state_dict\u001b[0;34m(self, state_dict, strict, assign)\u001b[0m\n\u001b[1;32m   2101\u001b[0m         \"\"\"\n\u001b[1;32m   2102\u001b[0m         \u001b[0;32mif\u001b[0m \u001b[0;32mnot\u001b[0m \u001b[0misinstance\u001b[0m\u001b[0;34m(\u001b[0m\u001b[0mstate_dict\u001b[0m\u001b[0;34m,\u001b[0m \u001b[0mMapping\u001b[0m\u001b[0;34m)\u001b[0m\u001b[0;34m:\u001b[0m\u001b[0;34m\u001b[0m\u001b[0;34m\u001b[0m\u001b[0m\n\u001b[0;32m-> 2103\u001b[0;31m             \u001b[0;32mraise\u001b[0m \u001b[0mTypeError\u001b[0m\u001b[0;34m(\u001b[0m\u001b[0;34mf\"Expected state_dict to be dict-like, got {type(state_dict)}.\"\u001b[0m\u001b[0;34m)\u001b[0m\u001b[0;34m\u001b[0m\u001b[0;34m\u001b[0m\u001b[0m\n\u001b[0m\u001b[1;32m   2104\u001b[0m \u001b[0;34m\u001b[0m\u001b[0m\n\u001b[1;32m   2105\u001b[0m         \u001b[0mmissing_keys\u001b[0m\u001b[0;34m:\u001b[0m \u001b[0mList\u001b[0m\u001b[0;34m[\u001b[0m\u001b[0mstr\u001b[0m\u001b[0;34m]\u001b[0m \u001b[0;34m=\u001b[0m \u001b[0;34m[\u001b[0m\u001b[0;34m]\u001b[0m\u001b[0;34m\u001b[0m\u001b[0;34m\u001b[0m\u001b[0m\n",
            "\u001b[0;31mTypeError\u001b[0m: Expected state_dict to be dict-like, got <class 'str'>."
          ]
        }
      ],
      "source": [
        "model = ValueNetwork()\n",
        "model.load_state_dict('./model_value.pth')\n"
      ]
    },
    {
      "cell_type": "code",
      "execution_count": null,
      "metadata": {
        "colab": {
          "base_uri": "https://localhost:8080/",
          "height": 466
        },
        "id": "95ndcGEtILMo",
        "outputId": "785464c4-728d-44f2-a199-abe081c42947"
      },
      "outputs": [
        {
          "data": {
            "text/plain": [
              "Text(0, 0.5, 'MSE Loss (%)')"
            ]
          },
          "execution_count": 39,
          "metadata": {},
          "output_type": "execute_result"
        },
        {
          "data": {
            "image/png": "[encoded data removed]",
            "text/plain": [
              "<Figure size 640x480 with 1 Axes>"
            ]
          },
          "metadata": {},
          "output_type": "display_data"
        }
      ],
      "source": [
        "import matplotlib.pyplot as plt\n",
        "plt.plot(errors)\n",
        "plt.xlabel('Epochs')\n",
        "plt.ylabel('Mean Squared Error (%)')"
      ]
    },
    {
      "cell_type": "code",
      "execution_count": null,
      "metadata": {
        "colab": {
          "base_uri": "https://localhost:8080/",
          "height": 466
        },
        "id": "xLH26A6zKObn",
        "outputId": "3c3d4961-7285-4cca-936f-f1ecc85efcbd"
      },
      "outputs": [
        {
          "data": {
            "text/plain": [
              "Text(0, 0.5, 'MSE Loss')"
            ]
          },
          "execution_count": 40,
          "metadata": {},
          "output_type": "execute_result"
        },
        {
          "data": {
            "image/png": "[encoded data removed]",
            "text/plain": [
              "<Figure size 640x480 with 1 Axes>"
            ]
          },
          "metadata": {},
          "output_type": "display_data"
        }
      ],
      "source": [
        "import matplotlib.pyplot as plt\n",
        "plt.plot(loss_totals)\n",
        "plt.xlabel('Epochs')\n",
        "plt.ylabel('MSE Loss')"
      ]
    },
    {
      "cell_type": "code",
      "execution_count": null,
      "metadata": {
        "colab": {
          "base_uri": "https://localhost:8080/",
          "height": 466
        },
        "id": "DHbyCatiKh93",
        "outputId": "e7a0c972-b3e0-4b03-d92d-836a450ba193"
      },
      "outputs": [
        {
          "data": {
            "text/plain": [
              "Text(0, 0.5, 'MSE Loss')"
            ]
          },
          "execution_count": 47,
          "metadata": {},
          "output_type": "execute_result"
        },
        {
          "data": {
            "image/png": "[encoded data removed]",
            "text/plain": [
              "<Figure size 640x480 with 1 Axes>"
            ]
          },
          "metadata": {},
          "output_type": "display_data"
        }
      ],
      "source": [
        "import matplotlib.pyplot as plt\n",
        "plt.plot(b[0])\n",
        "plt.xlabel('Batches')\n",
        "plt.ylabel('MSE Loss')"
      ]
    }
  ],
  "metadata": {
    "accelerator": "GPU",
    "colab": {
      "collapsed_sections": [
        "zEuQwsYrg8du",
        "aIR4ZOdCgWZa",
        "IxQyWD50iZ6o",
        "EbSUEtvaiezt",
        "FWfr3QK7hlVB",
        "ELWRrI7MhpnJ"
      ],
      "provenance": []
    },
    "kernelspec": {
      "display_name": "Python 3",
      "name": "python3"
    },
    "language_info": {
      "name": "python"
    }
  },
  "nbformat": 4,
  "nbformat_minor": 0
}
